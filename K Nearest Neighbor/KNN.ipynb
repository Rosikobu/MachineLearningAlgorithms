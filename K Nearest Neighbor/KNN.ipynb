{
  "nbformat": 4,
  "nbformat_minor": 0,
  "metadata": {
    "colab": {
      "name": "KNN.ipynb",
      "provenance": [],
      "collapsed_sections": []
    },
    "kernelspec": {
      "name": "python3",
      "display_name": "Python 3"
    }
  },
  "cells": [
    {
      "cell_type": "code",
      "metadata": {
        "colab": {
          "base_uri": "https://localhost:8080/",
          "height": 36
        },
        "id": "OVzGf91VHb9R",
        "outputId": "26351c12-2ee9-49c8-cb3c-893db004bb4a"
      },
      "source": [
        "#!/usr/bin/env python\n",
        "\"\"\" 5. Pflichtübung für Maschinelles Lernen an der HS Mannheim zu k-nearest Neighbor\"\"\""
      ],
      "execution_count": 1,
      "outputs": [
        {
          "output_type": "execute_result",
          "data": {
            "application/vnd.google.colaboratory.intrinsic+json": {
              "type": "string"
            },
            "text/plain": [
              "' 5. Pflichtübung für Maschinelles Lernen an der HS Mannheim zu k-nearest Neighbor'"
            ]
          },
          "metadata": {
            "tags": []
          },
          "execution_count": 1
        }
      ]
    },
    {
      "cell_type": "code",
      "metadata": {
        "id": "3Y5AuoLAK_Q6"
      },
      "source": [
        "__maintainer__ = \"Rosario Allegro\""
      ],
      "execution_count": 2,
      "outputs": []
    },
    {
      "cell_type": "code",
      "metadata": {
        "id": "scV6J7jsGCfe"
      },
      "source": [
        "import string\n",
        "import numpy as np\n",
        "import matplotlib.pyplot as plt\n",
        "import math\n",
        "import random\n",
        "import copy\n",
        "from enum import Enum\n",
        "from typing import List, Tuple\n",
        "\n",
        "# Pathfile and kNN-Value\n",
        "fName = '/spiral.txt'\n",
        "kValue = 3\n",
        "\n",
        "# Vanilla-Daten\n",
        "spiral_data = []"
      ],
      "execution_count": 3,
      "outputs": []
    },
    {
      "cell_type": "code",
      "metadata": {
        "id": "MWyvyqz7iceb"
      },
      "source": [
        "#@dataclass\n",
        "class Node:\n",
        "  def __init__(self, coord: List[float]) -> None:\n",
        "    self.x = coord[0]\n",
        "    self.y = coord[1]\n",
        "    self.color = coord[2]\n",
        "  \n",
        "  def getX(self) -> float:\n",
        "    return self.x\n",
        "\n",
        "  def getY(self) -> float:\n",
        "    return self.y\n",
        "\n",
        "  def getColor(self) -> str:\n",
        "    return self.color"
      ],
      "execution_count": 4,
      "outputs": []
    },
    {
      "cell_type": "code",
      "metadata": {
        "colab": {
          "base_uri": "https://localhost:8080/"
        },
        "id": "Gux-zkcfr-lm",
        "outputId": "8f2cebca-6854-4aa1-e82e-a9d4c4d047f3"
      },
      "source": [
        "# Vanilladaten verarbeiten\n",
        "def proc_data(path: string, mode: string) -> None:\n",
        "  f = open(path, mode)\n",
        "  for x in f:\n",
        "    x = x.strip()\n",
        "    x = x.split(\";\")\n",
        "    spiral_data.append(Node([float(i) for i in x]))\n",
        "  f.close()\n",
        "\n",
        "# Dateneingabe für Vanilladaten\n",
        "if 'google.colab' in str(get_ipython()):\n",
        "  from google.colab import drive\n",
        "  drive.mount('/content/drive', force_remount=True)\n",
        "  proc_data(\"/content/drive/My Drive%s\" % (fName), \"r\")\n",
        "else:\n",
        "  proc_data(\"%s\" % (fName), \"r\")"
      ],
      "execution_count": 5,
      "outputs": [
        {
          "output_type": "stream",
          "text": [
            "Mounted at /content/drive\n"
          ],
          "name": "stdout"
        }
      ]
    },
    {
      "cell_type": "code",
      "metadata": {
        "id": "jVzFQJdTHZUd"
      },
      "source": [
        "class Knn:\n",
        "  _x, _y, _color = [], [], []\n",
        "  def __init__(self, listOfNodes: List[float], kValue: int) -> None:\n",
        "    self._data = copy.deepcopy ( listOfNodes )\n",
        "    self._k = kValue\n",
        "    self.__init_data()\n",
        "\n",
        "  def __init_data(self) -> None:\n",
        "    for node in self._data:\n",
        "      self._x.append(node.getX())\n",
        "      self._y.append(node.getY())\n",
        "      \n",
        "      if(node.getColor()==-1):\n",
        "        self._color.append('blue')\n",
        "      else:\n",
        "        self._color.append('red')\n",
        "\n",
        "  def add_node(self, newNode: Node) -> None:\n",
        "\n",
        "    # Neue Liste für Abstände\n",
        "    list_elements = []\n",
        "\n",
        "    # Berechne Abstände der Nodes\n",
        "    list_elements = list((self.__get_distance(prototype_node, newNode), prototype_node.getColor()) for prototype_node in spiral_data)\n",
        "    \n",
        "    # Zugehörige Klasse des neuen Node bestimmen\n",
        "    calculated_class = self.__calc_neighbor(list_elements)\n",
        "\n",
        "    # neuen Node mit dazugehörige Klasse hinzufügen\n",
        "    self._x.append(newNode.getX())\n",
        "    self._y.append(newNode.getY())\n",
        "    self._color.append(calculated_class)\n",
        "\n",
        "  # Farbe bestimmen des neuen Node\n",
        "  def __calc_neighbor(self, list_elements: Tuple[float, int]) -> str:\n",
        "    \n",
        "    self.__Sort(list_elements)\n",
        "    \n",
        "    blue, red = 0,0\n",
        "    for index in range(self._k):\n",
        "      if list_elements[index][1]==1:\n",
        "        red += 1\n",
        "      else:\n",
        "        blue += 1\n",
        "    \n",
        "    if (blue > red):\n",
        "      return 'blue'\n",
        "    else:\n",
        "      return 'red'\n",
        "\n",
        "  # Listenelemente sortieren\n",
        "  def __Sort(self, to_sort: Tuple[float, int]) -> Tuple[float, int]: \n",
        "    to_sort.sort(key = lambda x: x[0], reverse=False) \n",
        "    return to_sort\n",
        "\n",
        "  # Distanz zwischen zwei Nodes berechnen\n",
        "  def __get_distance(self, fromNode: Node, toNode: Node) -> List[Node]:\n",
        "    return math.sqrt(((fromNode.getX() - toNode.getX()) ** 2) + (fromNode.getY() - toNode.getY()) ** 2)\n",
        "\n",
        "  # Visualisierung\n",
        "  def visualisation(self) -> None:\n",
        "    plt.scatter(self._x, self._y, c=self._color)\n",
        "    plt.show()"
      ],
      "execution_count": 6,
      "outputs": []
    },
    {
      "cell_type": "code",
      "metadata": {
        "colab": {
          "base_uri": "https://localhost:8080/",
          "height": 302
        },
        "id": "JgAMFpwubcI5",
        "outputId": "14a8401b-0b74-40d0-de92-73fabb217a8e"
      },
      "source": [
        "# create vanilla-data:\n",
        "#dh = Datahandler(fName)\n",
        "\n",
        "# Erstes Bild _____________\n",
        "k1 = Knn(spiral_data, kValue)\n",
        "\n",
        "#0,01 Schritten\n",
        "x, y = -1.0, 1.0\n",
        "for y_idx in range(200):\n",
        "  y -= 0.01\n",
        "  for x_idx in range(200):\n",
        "    x += 0.01\n",
        "    k1.add_node(Node([x, y, 0]))\n",
        "  x = -1.0\n",
        "\n",
        "k1.visualisation()\n",
        "\n",
        "'''\n",
        "# Zweites Bild _____________\n",
        "k2 = Knn(spiral_data, 5)\n",
        "\n",
        "#0,01 Schritten\n",
        "x, y = -1.0, 1.0\n",
        "for y_idx in range(200):\n",
        "  y -= 0.01\n",
        "  for x_idx in range(200):\n",
        "    x += 0.01\n",
        "    k2.add_node(Node([x, y, 0]))\n",
        "  x = -1.0\n",
        "k2.visualisation()\n",
        "'''"
      ],
      "execution_count": 7,
      "outputs": [
        {
          "output_type": "display_data",
          "data": {
            "image/png": "[encoded data removed]",
            "text/plain": [
              "<Figure size 432x288 with 1 Axes>"
            ]
          },
          "metadata": {
            "tags": [],
            "needs_background": "light"
          }
        },
        {
          "output_type": "execute_result",
          "data": {
            "application/vnd.google.colaboratory.intrinsic+json": {
              "type": "string"
            },
            "text/plain": [
              "'\\n# Zweites Bild _____________\\nk2 = Knn(spiral_data, 5)\\n\\n#0,01 Schritten\\nx, y = -1.0, 1.0\\nfor y_idx in range(200):\\n  y -= 0.01\\n  for x_idx in range(200):\\n    x += 0.01\\n    k2.add_node(Node([x, y, 0]))\\n  x = -1.0\\nk2.visualisation()\\n'"
            ]
          },
          "metadata": {
            "tags": []
          },
          "execution_count": 7
        }
      ]
    }
  ]
}