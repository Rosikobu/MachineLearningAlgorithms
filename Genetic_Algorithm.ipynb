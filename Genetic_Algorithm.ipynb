{
  "nbformat": 4,
  "nbformat_minor": 0,
  "metadata": {
    "colab": {
      "name": "GeneticAlgorithm_4.1.ipynb",
      "provenance": [],
      "collapsed_sections": []
    },
    "kernelspec": {
      "name": "python3",
      "display_name": "Python 3"
    }
  },
  "cells": [
    {
      "cell_type": "code",
      "metadata": {
        "id": "G5OY580yRn_R",
        "colab": {
          "base_uri": "https://localhost:8080/",
          "height": 36
        },
        "outputId": "c636c2f4-df98-46eb-e20f-b8c2e00c280e"
      },
      "source": [
        "#!/usr/bin/env python\n",
        "\"\"\" Pflichtübung für Maschinelles Lernen an der HS Mannheim zu Genetische Algorithmen\"\"\""
      ],
      "execution_count": null,
      "outputs": [
        {
          "output_type": "execute_result",
          "data": {
            "application/vnd.google.colaboratory.intrinsic+json": {
              "type": "string"
            },
            "text/plain": [
              "' 3. Pflichtübung für Maschinelles Lernen an der HS Mannheim zu Genetische Algorithmen'"
            ]
          },
          "metadata": {
            "tags": []
          },
          "execution_count": 229
        }
      ]
    },
    {
      "cell_type": "code",
      "metadata": {
        "id": "CUNcOXVIRsRw"
      },
      "source": [
        "import string\n",
        "import numpy as np\n",
        "import matplotlib.pyplot as plt\n",
        "import math\n",
        "import random\n",
        "import copy\n",
        "from typing import List, Tuple"
      ],
      "execution_count": null,
      "outputs": []
    },
    {
      "cell_type": "code",
      "metadata": {
        "id": "NfKWjzTtRupp"
      },
      "source": [
        "__maintainer__ = \"Rosario Allegro\""
      ],
      "execution_count": null,
      "outputs": []
    },
    {
      "cell_type": "code",
      "metadata": {
        "id": "g5DtqUXwRwFu"
      },
      "source": [
        "GENES   =   10\n",
        "BITS    =   100\n",
        "\n",
        "c       =   0.0001\n",
        "s       =   0.8\n",
        "m       =   0.5\n",
        "EPOCHS  =   50\n",
        "\n",
        "SelectionType   = Enum(\"SelectionType\", \"WHEEL TOURNAMENT\") # Für die Wahl von Kandidaten\n",
        "CrossoverType   = Enum(\"CrossoverType\", \"ONEPOINT\")         # Für die Wahl von der Crossover-Logik, erweiterbar zB PMX, ERX"
      ],
      "execution_count": null,
      "outputs": []
    },
    {
      "cell_type": "code",
      "metadata": {
        "id": "esEJltBcRx4m"
      },
      "source": [
        "def initialize_population(genes, bits) -> Tuple[int, ...]:\n",
        "  \"\"\" Zufällige Population wird erstellt mit dem Format genes x bits. \"\"\"\n",
        "  return np.random.randint(2, size=(genes, bits))"
      ],
      "execution_count": null,
      "outputs": []
    },
    {
      "cell_type": "code",
      "metadata": {
        "id": "C8skq7afR1Cg"
      },
      "source": [
        "def initialize_volumes(genes, bits) -> List[float]:\n",
        "  \"\"\" Erstellen einer Liste mit zufälligen Volumen zwischen 0 und 10. \"\"\"\n",
        "  return np.random.rand(BITS,1)*10"
      ],
      "execution_count": null,
      "outputs": []
    },
    {
      "cell_type": "code",
      "metadata": {
        "id": "1_lfNtf7R27G"
      },
      "source": [
        "def fitness_sum(genes, bg, v, bits) -> float:\n",
        "  \"\"\" Errechnet die Summe der einzelnen Fitness und gibt diese zurück. \"\"\"\n",
        "  return np.sum([fitness(hj, bg, v, bits) for hj in range(genes)])"
      ],
      "execution_count": null,
      "outputs": []
    },
    {
      "cell_type": "code",
      "metadata": {
        "id": "-Sjan8KxR4in"
      },
      "source": [
        "def fitness(i, bg, v, bits) -> float:\n",
        "  \"\"\" Errechnet ein einzelnes Fitness nach der gegebenen Formel und gibt diese zurück. \"\"\"\n",
        "  value = 0\n",
        "  for g in range(bits):\n",
        "    value += bg[i][g]*v[g]\n",
        "  return (np.exp(-c*(np.power(100-value, 2))))"
      ],
      "execution_count": null,
      "outputs": []
    },
    {
      "cell_type": "code",
      "metadata": {
        "id": "TMOR2gaeR6In"
      },
      "source": [
        "def calculate_probability(bg, volume, bits, genes) -> float:\n",
        "  \"\"\" Errechnet eine Wahrscheinlichkeit für eine Hypothesis durch die Summe aller Hypothesen. \"\"\"\n",
        "  sum = fitness_sum(genes, bg, volume, bits)\n",
        "  return [fitness(n, bg, volume, bits) / sum for n in range(genes)]"
      ],
      "execution_count": null,
      "outputs": []
    },
    {
      "cell_type": "code",
      "metadata": {
        "id": "3vicVXNpR81C"
      },
      "source": [
        "def generate_crossover_candidates(genes, nCrossover) -> int:\n",
        "  \"\"\" Erstellt eine Liste mit zufälligen Crossover-Kandidaten. \"\"\"\n",
        "  return random.sample(range(0, genes), nCrossover)"
      ],
      "execution_count": null,
      "outputs": []
    },
    {
      "cell_type": "code",
      "metadata": {
        "id": "Y39KD_Hnj8yN"
      },
      "source": [
        "def generate_crossoverpoint(bits, sum) -> int:\n",
        "  \"\"\" Zur generierung von möglichen n-Crossoverpunkten \"\"\"\n",
        "  crossover_points = [random.randint(0, bits) for n in range(sum)]\n",
        "  crossover_points += crossover_points[::-1]\n",
        "  yield from crossover_points"
      ],
      "execution_count": null,
      "outputs": []
    },
    {
      "cell_type": "code",
      "metadata": {
        "id": "FXrItOmhR-c6"
      },
      "source": [
        "def generate_sequence(f_half, s_half, crossover_point, bits, bg) -> List[int]:\n",
        "  \"\"\" Erstellt eine neue Sequenz aus 0er und 1er aus beiden Elternteile.\n",
        "  f_half: Erster Elternteil\n",
        "  s_half: zweiter Elternteil\n",
        "  crossover_point: eine zufällig-ermittelter Crossover-Wert\n",
        "  \"\"\"\n",
        "  return ([first_parent for idx, first_parent in enumerate(bg[f_half]) if idx <= crossover_point] + \n",
        "          [second_parent for idx, second_parent in enumerate(bg[s_half]) if idx < bits-crossover_point-1])"
      ],
      "execution_count": null,
      "outputs": []
    },
    {
      "cell_type": "code",
      "metadata": {
        "id": "96O8kmgdSADR"
      },
      "source": [
        "def create_childrens(bg, genes, bits, crossover_candidates) -> List[int]:\n",
        "  \"\"\" Erzeugt Kinder der vorgegebenen Crossover-Kandidaten. Prüft, ob die Kandidaten gerade sind, \n",
        "  andernfalls entferne den letzten Wert.\n",
        "  \"\"\"\n",
        "  if(len(crossover_candidates)%2):\n",
        "    crossover_candidates.pop()\n",
        "  crossover_points = generate_crossoverpoint(bits, int(len(crossover_candidates)/2))\n",
        "  crossover_candidates += crossover_candidates[::-1]\n",
        "  return [ generate_sequence(crossover_candidates[index], crossover_candidates[index+1], next(crossover_points), bits, bg) for index in range(0, len(crossover_candidates), 2) ]\n"
      ],
      "execution_count": null,
      "outputs": []
    },
    {
      "cell_type": "code",
      "metadata": {
        "id": "JHJgIDVzSBxj"
      },
      "source": [
        "def selectHypothesis(bg, volumes, genes, bits, probability_list) -> int:\n",
        "  \"\"\" Wähle nach vorgegebene Algorithmus eine Hypothese und gebe den Index zurück. \"\"\"\n",
        "  randNum, index, sum = random.randint(0,100), random.randint(0, genes-1), 0 \n",
        "  while sum < randNum:\n",
        "    index = index + 1\n",
        "    index = index % genes\n",
        "    sum = sum + float(probability_list[index]*100)\n",
        "  return index"
      ],
      "execution_count": null,
      "outputs": []
    },
    {
      "cell_type": "code",
      "metadata": {
        "id": "-mV5FsEIdjyD"
      },
      "source": [
        "def Sort(to_sort) -> Tuple[float, int]: \n",
        "  \"\"\" Zur Sortierung von Tuplen nach Wahrscheinlickeiten \"\"\"\n",
        "  to_sort.sort(key = lambda x: x[0], reverse=True) \n",
        "  return to_sort "
      ],
      "execution_count": null,
      "outputs": []
    },
    {
      "cell_type": "code",
      "metadata": {
        "id": "b4DtDtY2aGl2"
      },
      "source": [
        "def tournament_selection(genes, probability_list) -> int:\n",
        "  \"\"\" Aus n-Individueen wird jeweils der beste Kandidat ausgewählt und dessen Index zurückgegeben \"\"\"\n",
        "  candidates = random.sample(range(1, genes), random.randint(1, genes-1))\n",
        "  tournament = []\n",
        "  for n in range(len(candidates)):\n",
        "    tournament.append( [probability_list[n], n] )\n",
        "  Sort(tournament)\n",
        "  return (tournament[0][1])"
      ],
      "execution_count": null,
      "outputs": []
    },
    {
      "cell_type": "code",
      "metadata": {
        "id": "69ox-9zWPn6-"
      },
      "source": [
        "def mutate(gene) -> int:\n",
        "  \"\"\" Zum mutieren einer zufälligen Stelle im Gene, falls Wahrscheinlichkeit aufgetreten ist \"\"\"\n",
        "  to_shift = random.randint(0,99)\n",
        "  gene[to_shift] = 1 - gene[to_shift]\n",
        "  return gene"
      ],
      "execution_count": null,
      "outputs": []
    },
    {
      "cell_type": "code",
      "metadata": {
        "id": "svNBBWm3SFV8"
      },
      "source": [
        "def get_value(i, bg, v, bits) -> float:\n",
        "  \"\"\" get value \"\"\"\n",
        "  value = 0\n",
        "  for g in range(bits):\n",
        "    value += bg[i][g]*v[g]\n",
        "  return value"
      ],
      "execution_count": null,
      "outputs": []
    },
    {
      "cell_type": "code",
      "metadata": {
        "id": "uPlx_qkiSGw1"
      },
      "source": [
        "def create_visualisation(best_genes, epochs) -> None:\n",
        "  \"\"\" Zur Erzeugung einer Visualisierung. Erwartet eine Liste der besten Hypothese je Generation. \"\"\"\n",
        "  fig, ax = plt.subplots()\n",
        "  ax.set(xlabel='Epochen', ylabel='Wahrscheinlichkeit (%)',\n",
        "       title='Errechnete Wahrscheinlichkeiten')\n",
        "  plt.plot([x for x in range(epochs)],[y[0]*100 for y in best_genes], '-o')"
      ],
      "execution_count": null,
      "outputs": []
    },
    {
      "cell_type": "code",
      "metadata": {
        "id": "z39y7YOBSI8t"
      },
      "source": [
        "# main\n",
        "def evolve(genes, bits, c, selection_rate, mutation_rate, epochs, \n",
        "           selection_type, crossover_selection_type, crossover_type) -> None:\n",
        "  \n",
        "  # Population und Volumina erzeugen\n",
        "  bg = initialize_population(genes, bits)\n",
        "  v = initialize_volumes(genes, bits)\n",
        "  selection = int(selection_rate*10)\n",
        "\n",
        "  best_genes = []\n",
        "\n",
        "  for epoch in range(epochs):\n",
        "\n",
        "    # Neue Generation vorbereiten\n",
        "    new_generation = []\n",
        "\n",
        "    # ---- Wahrscheinlichkeiten ausrechnen \n",
        "    probability_list = calculate_probability(bg, v, bits, genes)\n",
        "\n",
        "    # ---- (1) Crossover\n",
        "    if crossover_selection_type == SelectionType.TOURNAMENT:\n",
        "      crossover_candidates = list( tournament_selection(genes, probability_list) for n in range(genes-selection))\n",
        "    else:\n",
        "      crossover_candidates = list( selectHypothesis(bg, v, genes, bits, probability_list) for n in range(genes-selection))\n",
        "    \n",
        "    new_generation = create_childrens( copy.deepcopy(bg), genes, bits, crossover_candidates)\n",
        "\n",
        "    # ---- (2) Selektion\n",
        "    if selection_type == SelectionType.TOURNAMENT:\n",
        "      new_generation += ( list( bg[val] for index, val in enumerate( list( tournament_selection(genes, probability_list) for n in range(selection))) ) )      \n",
        "    else:\n",
        "      new_generation += ( list( bg[val] for index, val in enumerate( list( selectHypothesis(bg, v, genes, bits, probability_list) for n in range(selection))) ) )      \n",
        "\n",
        "    # ---- (3) Mutations\n",
        "    for idx in range(len(new_generation)):\n",
        "      if random.random() < mutation_rate:\n",
        "        new_generation[idx] = copy.deepcopy( mutate(bg[idx]) )\n",
        "\n",
        "    # --- (4) Übernahme zur neuen Generation\n",
        "    bg = copy.deepcopy(new_generation)\n",
        "\n",
        "    # --- Übernahme der aktuelle Daten zur Visualisierung\n",
        "    current_statistic = [fitness(gen, new_generation, v, bits) for gen in range(genes)]\n",
        "    best = max(current_statistic)\n",
        "    volumen = current_statistic.index(best)\n",
        "\n",
        "    best_genes.append(\n",
        "        (\n",
        "        best, \n",
        "        get_value(volumen, new_generation, v, bits)\n",
        "    ))\n",
        "\n",
        "  create_visualisation(best_genes, epochs)\n",
        "\n",
        "  # Ergebnis-Ausgabe\n",
        "  for index, g in enumerate(best_genes):\n",
        "    print(\"Generation:\",index,\"- Wahrscheinlichkeit\",*g[0] * 100,\"% gefunden für Volumen\",*g[1])"
      ],
      "execution_count": null,
      "outputs": []
    },
    {
      "cell_type": "code",
      "metadata": {
        "id": "HgF6kQOQSMKA",
        "colab": {
          "base_uri": "https://localhost:8080/",
          "height": 1000
        },
        "outputId": "5df01cea-9475-442b-f8fb-622f421f520d"
      },
      "source": [
        "evolve(GENES, BITS, c, s, m, EPOCHS, \n",
        "       selection_type=SelectionType.TOURNAMENT,             # zur Auswahl von Individueen für Natürliche Selektion (WHEEL oder TOURNAMENT)\n",
        "       crossover_selection_type=SelectionType.TOURNAMENT,   # zur Auswahl von Individueen für Crossover (WHEEL oder TOURNAMENT)\n",
        "       crossover_type=CrossoverType.ONEPOINT)               # konkrete Crossover-Logik (momentan nur ONEPOINT lt Folien, ist erweiterbar)\n"
      ],
      "execution_count": null,
      "outputs": [
        {
          "output_type": "stream",
          "text": [
            "Generation: 0 - Wahrscheinlichkeit 24.397890552794063 % gefunden für Volumen 218.77177737916242\n",
            "Generation: 1 - Wahrscheinlichkeit 29.63243043769407 % gefunden für Volumen 210.28602819576645\n",
            "Generation: 2 - Wahrscheinlichkeit 29.589201877532457 % gefunden für Volumen 210.35219493281596\n",
            "Generation: 3 - Wahrscheinlichkeit 29.589201877532457 % gefunden für Volumen 210.35219493281596\n",
            "Generation: 4 - Wahrscheinlichkeit 29.63243043769407 % gefunden für Volumen 210.28602819576645\n",
            "Generation: 5 - Wahrscheinlichkeit 31.940152611122564 % gefunden für Volumen 206.8319364776378\n",
            "Generation: 6 - Wahrscheinlichkeit 67.56969906518893 % gefunden für Volumen 162.61074525261597\n",
            "Generation: 7 - Wahrscheinlichkeit 86.2333181628509 % gefunden für Volumen 138.48552473175846\n",
            "Generation: 8 - Wahrscheinlichkeit 92.21600172396222 % gefunden für Volumen 128.46691342498383\n",
            "Generation: 9 - Wahrscheinlichkeit 99.74510495910506 % gefunden für Volumen 94.94806520833777\n",
            "Generation: 10 - Wahrscheinlichkeit 99.99465278717197 % gefunden für Volumen 100.73125616555063\n",
            "Generation: 11 - Wahrscheinlichkeit 99.83575488274037 % gefunden für Volumen 95.94561783466031\n",
            "Generation: 12 - Wahrscheinlichkeit 99.96327759237369 % gefunden für Volumen 98.08351488517144\n",
            "Generation: 13 - Wahrscheinlichkeit 99.99818843866029 % gefunden für Volumen 100.42562633244104\n",
            "Generation: 14 - Wahrscheinlichkeit 99.99818843866029 % gefunden für Volumen 100.42562633244104\n",
            "Generation: 15 - Wahrscheinlichkeit 99.99818843866029 % gefunden für Volumen 100.42562633244104\n",
            "Generation: 16 - Wahrscheinlichkeit 99.99818843866029 % gefunden für Volumen 100.42562633244104\n",
            "Generation: 17 - Wahrscheinlichkeit 99.99818843866029 % gefunden für Volumen 100.42562633244104\n",
            "Generation: 18 - Wahrscheinlichkeit 99.96396718251772 % gefunden für Volumen 101.89840224562218\n",
            "Generation: 19 - Wahrscheinlichkeit 99.9629306555955 % gefunden für Volumen 101.9255185479341\n",
            "Generation: 20 - Wahrscheinlichkeit 99.95325101967215 % gefunden für Volumen 102.16240401105946\n",
            "Generation: 21 - Wahrscheinlichkeit 99.95325101967215 % gefunden für Volumen 102.16240401105946\n",
            "Generation: 22 - Wahrscheinlichkeit 99.94204057383416 % gefunden für Volumen 97.59217465055781\n",
            "Generation: 23 - Wahrscheinlichkeit 99.94204057383416 % gefunden für Volumen 97.59217465055781\n",
            "Generation: 24 - Wahrscheinlichkeit 99.97594370391269 % gefunden für Volumen 98.44889748635529\n",
            "Generation: 25 - Wahrscheinlichkeit 99.97594370391269 % gefunden für Volumen 98.44889748635529\n",
            "Generation: 26 - Wahrscheinlichkeit 99.51007846877502 % gefunden für Volumen 107.00803525225025\n",
            "Generation: 27 - Wahrscheinlichkeit 99.99635505220753 % gefunden für Volumen 100.60373953177712\n",
            "Generation: 28 - Wahrscheinlichkeit 99.99635505220753 % gefunden für Volumen 100.60373953177712\n",
            "Generation: 29 - Wahrscheinlichkeit 99.99635505220753 % gefunden für Volumen 100.60373953177712\n",
            "Generation: 30 - Wahrscheinlichkeit 99.99636675544919 % gefunden für Volumen 99.39723051215731\n",
            "Generation: 31 - Wahrscheinlichkeit 99.99636675544919 % gefunden für Volumen 99.39723051215731\n",
            "Generation: 32 - Wahrscheinlichkeit 99.96755182369051 % gefunden für Volumen 101.80148388472654\n",
            "Generation: 33 - Wahrscheinlichkeit 99.96755182369051 % gefunden für Volumen 101.80148388472654\n",
            "Generation: 34 - Wahrscheinlichkeit 99.84622209966246 % gefunden für Volumen 96.0770386197817\n",
            "Generation: 35 - Wahrscheinlichkeit 99.84622209966246 % gefunden für Volumen 96.0770386197817\n",
            "Generation: 36 - Wahrscheinlichkeit 99.99446483279135 % gefunden für Volumen 99.25600266098026\n",
            "Generation: 37 - Wahrscheinlichkeit 99.99914097645721 % gefunden für Volumen 99.70690833645091\n",
            "Generation: 38 - Wahrscheinlichkeit 99.99914097645721 % gefunden für Volumen 99.70690833645091\n",
            "Generation: 39 - Wahrscheinlichkeit 99.99929257357442 % gefunden für Volumen 99.73402463876283\n",
            "Generation: 40 - Wahrscheinlichkeit 99.81900131524837 % gefunden für Volumen 104.25632100872886\n",
            "Generation: 41 - Wahrscheinlichkeit 99.81900131524837 % gefunden für Volumen 104.25632100872886\n",
            "Generation: 42 - Wahrscheinlichkeit 99.99774590715337 % gefunden für Volumen 99.52522444758834\n",
            "Generation: 43 - Wahrscheinlichkeit 99.9977935930227 % gefunden für Volumen 100.46972665655721\n",
            "Generation: 44 - Wahrscheinlichkeit 99.97101014229406 % gefunden für Volumen 101.70276424021296\n",
            "Generation: 45 - Wahrscheinlichkeit 99.99602230963515 % gefunden für Volumen 100.63069560621982\n",
            "Generation: 46 - Wahrscheinlichkeit 99.99602230963515 % gefunden für Volumen 100.63069560621982\n",
            "Generation: 47 - Wahrscheinlichkeit 99.99145486243613 % gefunden für Volumen 99.07558111867199\n",
            "Generation: 48 - Wahrscheinlichkeit 99.99145486243613 % gefunden für Volumen 99.07558111867199\n",
            "Generation: 49 - Wahrscheinlichkeit 99.99781658798513 % gefunden für Volumen 100.46727249562244\n"
          ],
          "name": "stdout"
        },
        {
          "output_type": "display_data",
          "data": {
            "image/png": "[encoded data removed]",
            "text/plain": [
              "<Figure size 432x288 with 1 Axes>"
            ]
          },
          "metadata": {
            "tags": [],
            "needs_background": "light"
          }
        }
      ]
    }
  ]
}